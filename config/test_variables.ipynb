{
 "cells": [
  {
   "cell_type": "code",
   "execution_count": 1,
   "metadata": {},
   "outputs": [],
   "source": [
    "import pandas as pd\n",
    "import yaml"
   ]
  },
  {
   "cell_type": "code",
   "execution_count": 5,
   "metadata": {},
   "outputs": [],
   "source": [
    "samples = pd.read_csv(filepath_or_buffer=\"samples.tsv\", sep=\"\\t\")"
   ]
  },
  {
   "cell_type": "code",
   "execution_count": null,
   "metadata": {},
   "outputs": [],
   "source": []
  },
  {
   "cell_type": "code",
   "execution_count": 19,
   "metadata": {},
   "outputs": [
    {
     "data": {
      "text/plain": [
       "['pop1.1', 'pop1.1']"
      ]
     },
     "execution_count": 19,
     "metadata": {},
     "output_type": "execute_result"
    }
   ],
   "source": [
    "(samples.sample_name + \".\" + samples.library.astype(str)).tolist()"
   ]
  },
  {
   "cell_type": "code",
   "execution_count": null,
   "metadata": {},
   "outputs": [],
   "source": []
  },
  {
   "cell_type": "code",
   "execution_count": 27,
   "metadata": {},
   "outputs": [],
   "source": [
    "SAMPLES = samples\n"
   ]
  },
  {
   "cell_type": "code",
   "execution_count": 24,
   "metadata": {},
   "outputs": [
    {
     "data": {
      "text/plain": [
       "[['pop1', 1], ['pop1', 1]]"
      ]
     },
     "execution_count": 24,
     "metadata": {},
     "output_type": "execute_result"
    }
   ],
   "source": [
    "samples[[\"sample_name\", \"library\"]].values.tolist()"
   ]
  },
  {
   "cell_type": "code",
   "execution_count": 25,
   "metadata": {},
   "outputs": [],
   "source": [
    "def get_reads(wildcards):\n",
    "    sample  = wildcards.sample\n",
    "    library = wildcards.library\n",
    "    forward_, reverse_ = (\n",
    "        SAMPLES\n",
    "        [(SAMPLES[\"sample\"] == sample) & (SAMPLES[\"library\"] == library)]\n",
    "        [[\"forward\", \"reverse\"]]\n",
    "        .values.tolist()\n",
    "    )\n",
    "    return forward_, reverse_N"
   ]
  },
  {
   "cell_type": "code",
   "execution_count": 37,
   "metadata": {},
   "outputs": [
    {
     "data": {
      "text/plain": [
       "['resources/reads/pop1_1.fq.gz', 'resources/reads/pop1_2.fq.gz']"
      ]
     },
     "execution_count": 37,
     "metadata": {},
     "output_type": "execute_result"
    }
   ],
   "source": [
    "sample = \"pop1\"\n",
    "library = 1\n",
    "SAMPLES[(SAMPLES.sample_name == sample) & (SAMPLES.library == library)]\\\n",
    "    [[\"forward\", \"reverse\"]]\\\n",
    "    .values.tolist()[0]"
   ]
  },
  {
   "cell_type": "code",
   "execution_count": 44,
   "metadata": {},
   "outputs": [
    {
     "data": {
      "text/plain": [
       "['asdasa/pop1.1_1.fq.gz', 'asdasa/pop1.1_1.fq.gz']"
      ]
     },
     "execution_count": 44,
     "metadata": {},
     "output_type": "execute_result"
    }
   ],
   "source": [
    "[\n",
    "            f\"{READS}/{sample}.{library}_1.fq.gz\"\n",
    "            for sample, library in samples[[\"sample_name\", \"library\"]].values.tolist()\n",
    "        ]\n"
   ]
  },
  {
   "cell_type": "code",
   "execution_count": 39,
   "metadata": {},
   "outputs": [
    {
     "data": {
      "text/html": [
       "<div>\n",
       "<style scoped>\n",
       "    .dataframe tbody tr th:only-of-type {\n",
       "        vertical-align: middle;\n",
       "    }\n",
       "\n",
       "    .dataframe tbody tr th {\n",
       "        vertical-align: top;\n",
       "    }\n",
       "\n",
       "    .dataframe thead th {\n",
       "        text-align: right;\n",
       "    }\n",
       "</style>\n",
       "<table border=\"1\" class=\"dataframe\">\n",
       "  <thead>\n",
       "    <tr style=\"text-align: right;\">\n",
       "      <th></th>\n",
       "      <th>sample_name</th>\n",
       "      <th>library</th>\n",
       "      <th>forward</th>\n",
       "      <th>reverse</th>\n",
       "      <th>adapter</th>\n",
       "    </tr>\n",
       "  </thead>\n",
       "  <tbody>\n",
       "    <tr>\n",
       "      <th>0</th>\n",
       "      <td>pop1</td>\n",
       "      <td>1</td>\n",
       "      <td>resources/reads/pop1_1.fq.gz</td>\n",
       "      <td>resources/reads/pop1_2.fq.gz</td>\n",
       "      <td>TruSeq3-PE-2.fa</td>\n",
       "    </tr>\n",
       "    <tr>\n",
       "      <th>1</th>\n",
       "      <td>pop1</td>\n",
       "      <td>1</td>\n",
       "      <td>resources/reads/pop2_1.fq.gz</td>\n",
       "      <td>resources/reads/pop2_2.fq.gz</td>\n",
       "      <td>TruSeq3-PE-2.fa</td>\n",
       "    </tr>\n",
       "  </tbody>\n",
       "</table>\n",
       "</div>"
      ],
      "text/plain": [
       "  sample_name  library                       forward  \\\n",
       "0        pop1        1  resources/reads/pop1_1.fq.gz   \n",
       "1        pop1        1  resources/reads/pop2_1.fq.gz   \n",
       "\n",
       "                        reverse          adapter  \n",
       "0  resources/reads/pop1_2.fq.gz  TruSeq3-PE-2.fa  \n",
       "1  resources/reads/pop2_2.fq.gz  TruSeq3-PE-2.fa  "
      ]
     },
     "execution_count": 39,
     "metadata": {},
     "output_type": "execute_result"
    }
   ],
   "source": [
    "SAMPLES"
   ]
  },
  {
   "cell_type": "code",
   "execution_count": 41,
   "metadata": {},
   "outputs": [],
   "source": [
    "READS = \"asdasa\""
   ]
  },
  {
   "cell_type": "code",
   "execution_count": null,
   "metadata": {},
   "outputs": [],
   "source": []
  },
  {
   "cell_type": "code",
   "execution_count": 46,
   "metadata": {},
   "outputs": [],
   "source": [
    "samples = pd.read_table(\"samples.tsv\", comment=\"#\")"
   ]
  },
  {
   "cell_type": "code",
   "execution_count": 47,
   "metadata": {},
   "outputs": [
    {
     "data": {
      "text/html": [
       "<div>\n",
       "<style scoped>\n",
       "    .dataframe tbody tr th:only-of-type {\n",
       "        vertical-align: middle;\n",
       "    }\n",
       "\n",
       "    .dataframe tbody tr th {\n",
       "        vertical-align: top;\n",
       "    }\n",
       "\n",
       "    .dataframe thead th {\n",
       "        text-align: right;\n",
       "    }\n",
       "</style>\n",
       "<table border=\"1\" class=\"dataframe\">\n",
       "  <thead>\n",
       "    <tr style=\"text-align: right;\">\n",
       "      <th></th>\n",
       "      <th>sample</th>\n",
       "      <th>library</th>\n",
       "      <th>forward</th>\n",
       "      <th>reverse</th>\n",
       "    </tr>\n",
       "  </thead>\n",
       "  <tbody>\n",
       "    <tr>\n",
       "      <th>0</th>\n",
       "      <td>pop1</td>\n",
       "      <td>1</td>\n",
       "      <td>resources/reads/pop1_1.fq.gz</td>\n",
       "      <td>resources/reads/pop1_2.fq.gz</td>\n",
       "    </tr>\n",
       "    <tr>\n",
       "      <th>1</th>\n",
       "      <td>pop2</td>\n",
       "      <td>1</td>\n",
       "      <td>resources/reads/pop2_1.fq.gz</td>\n",
       "      <td>resources/reads/pop2_2.fq.gz</td>\n",
       "    </tr>\n",
       "  </tbody>\n",
       "</table>\n",
       "</div>"
      ],
      "text/plain": [
       "  sample  library                       forward                       reverse\n",
       "0   pop1        1  resources/reads/pop1_1.fq.gz  resources/reads/pop1_2.fq.gz\n",
       "1   pop2        1  resources/reads/pop2_1.fq.gz  resources/reads/pop2_2.fq.gz"
      ]
     },
     "execution_count": 47,
     "metadata": {},
     "output_type": "execute_result"
    }
   ],
   "source": [
    "samples"
   ]
  },
  {
   "cell_type": "code",
   "execution_count": 48,
   "metadata": {},
   "outputs": [
    {
     "data": {
      "text/plain": [
       "['asdasa/pop1.1_1.fq.gz', 'asdasa/pop2.1_1.fq.gz']"
      ]
     },
     "execution_count": 48,
     "metadata": {},
     "output_type": "execute_result"
    }
   ],
   "source": [
    "[\n",
    "            f\"{READS}/{sample}.{library}_1.fq.gz\"\n",
    "            for sample, library in samples[[\"sample\", \"library\"]].values.tolist()\n",
    "        ]"
   ]
  },
  {
   "cell_type": "code",
   "execution_count": 49,
   "metadata": {},
   "outputs": [
    {
     "data": {
      "text/plain": [
       "'pop1'"
      ]
     },
     "execution_count": 49,
     "metadata": {},
     "output_type": "execute_result"
    }
   ],
   "source": [
    "sample"
   ]
  },
  {
   "cell_type": "code",
   "execution_count": 50,
   "metadata": {},
   "outputs": [
    {
     "data": {
      "text/plain": [
       "1"
      ]
     },
     "execution_count": 50,
     "metadata": {},
     "output_type": "execute_result"
    }
   ],
   "source": [
    "library"
   ]
  },
  {
   "cell_type": "code",
   "execution_count": 52,
   "metadata": {},
   "outputs": [
    {
     "data": {
      "text/plain": [
       "[['resources/reads/pop1_1.fq.gz', 'resources/reads/pop1_2.fq.gz']]"
      ]
     },
     "execution_count": 52,
     "metadata": {},
     "output_type": "execute_result"
    }
   ],
   "source": [
    "samples[(samples[\"sample\"] == sample) & (samples[\"library\"] == library)][[\"forward\", \"reverse\"]].values.tolist()"
   ]
  },
  {
   "cell_type": "code",
   "execution_count": 70,
   "metadata": {},
   "outputs": [
    {
     "data": {
      "text/html": [
       "<div>\n",
       "<style scoped>\n",
       "    .dataframe tbody tr th:only-of-type {\n",
       "        vertical-align: middle;\n",
       "    }\n",
       "\n",
       "    .dataframe tbody tr th {\n",
       "        vertical-align: top;\n",
       "    }\n",
       "\n",
       "    .dataframe thead th {\n",
       "        text-align: right;\n",
       "    }\n",
       "</style>\n",
       "<table border=\"1\" class=\"dataframe\">\n",
       "  <thead>\n",
       "    <tr style=\"text-align: right;\">\n",
       "      <th></th>\n",
       "      <th>sample</th>\n",
       "      <th>library</th>\n",
       "      <th>forward</th>\n",
       "      <th>reverse</th>\n",
       "    </tr>\n",
       "  </thead>\n",
       "  <tbody>\n",
       "  </tbody>\n",
       "</table>\n",
       "</div>"
      ],
      "text/plain": [
       "Empty DataFrame\n",
       "Columns: [sample, library, forward, reverse]\n",
       "Index: []"
      ]
     },
     "execution_count": 70,
     "metadata": {},
     "output_type": "execute_result"
    }
   ],
   "source": [
    "samples[(samples[\"library\"] == library)]"
   ]
  },
  {
   "cell_type": "code",
   "execution_count": 55,
   "metadata": {},
   "outputs": [],
   "source": [
    "forward_, reverse_ = samples[(samples[\"sample\"] == sample) & (samples[\"library\"] == library)][[\"forward\", \"reverse\"]].values.tolist()[0]"
   ]
  },
  {
   "cell_type": "code",
   "execution_count": 65,
   "metadata": {},
   "outputs": [],
   "source": [
    "READS = \"results/reads/\""
   ]
  },
  {
   "cell_type": "code",
   "execution_count": 67,
   "metadata": {},
   "outputs": [
    {
     "data": {
      "text/plain": [
       "['results/reads/pop1.1.1.fq.gz',\n",
       " 'results/reads/pop1.1.2.fq.gz',\n",
       " 'results/reads/pop2.1.1.fq.gz',\n",
       " 'results/reads/pop2.1.2.fq.gz']"
      ]
     },
     "execution_count": 67,
     "metadata": {},
     "output_type": "execute_result"
    }
   ],
   "source": [
    "[   \n",
    "    READS + sample + \".\" + library + \".\" + end + \".fq.gz\"\n",
    "    for sample, library in (\n",
    "        samples[[\"sample\", \"library\"]]\n",
    "        .values\n",
    "        .tolist()\n",
    "    )\n",
    "    for end in [\"1\", \"2\"]\n",
    "]"
   ]
  },
  {
   "cell_type": "code",
   "execution_count": 59,
   "metadata": {},
   "outputs": [],
   "source": [
    "samples = pd.read_table(\"samples.tsv\", comment=\"#\", dtype = 'str')\n",
    "\n",
    "\n",
    "\n"
   ]
  },
  {
   "cell_type": "code",
   "execution_count": 88,
   "metadata": {},
   "outputs": [
    {
     "data": {
      "text/plain": [
       "'resources/reads/pop1_1.fq.gz'"
      ]
     },
     "execution_count": 88,
     "metadata": {},
     "output_type": "execute_result"
    }
   ],
   "source": [
    "sample = \"pop1\"\n",
    "library = \"1\"\n",
    "samples[(samples[\"sample\"] == sample) & (samples[\"library\"] == library)][\"forward\"].tolist()[0]"
   ]
  },
  {
   "cell_type": "code",
   "execution_count": 69,
   "metadata": {},
   "outputs": [
    {
     "name": "stdout",
     "output_type": "stream",
     "text": [
      "['results/reads/pop1.1.1.fq.gz', 'results/reads/pop1.1.2.fq.gz', 'results/reads/pop2.1.1.fq.gz', 'results/reads/pop2.1.2.fq.gz']\n"
     ]
    }
   ],
   "source": [
    "print([\n",
    "    READS + sample + \".\" + library + \".\" + end + \".fq.gz\"\n",
    "    for sample, library in samples[[\"sample\", \"library\"]].values.tolist()\n",
    "    for end in [\"1\", \"2\"]\n",
    "])\n"
   ]
  },
  {
   "cell_type": "code",
   "execution_count": 61,
   "metadata": {},
   "outputs": [
    {
     "data": {
      "text/plain": [
       "0    1\n",
       "1    1\n",
       "Name: library, dtype: object"
      ]
     },
     "execution_count": 61,
     "metadata": {},
     "output_type": "execute_result"
    }
   ],
   "source": [
    "samples.library"
   ]
  },
  {
   "cell_type": "code",
   "execution_count": 82,
   "metadata": {},
   "outputs": [
    {
     "data": {
      "text/html": [
       "<div>\n",
       "<style scoped>\n",
       "    .dataframe tbody tr th:only-of-type {\n",
       "        vertical-align: middle;\n",
       "    }\n",
       "\n",
       "    .dataframe tbody tr th {\n",
       "        vertical-align: top;\n",
       "    }\n",
       "\n",
       "    .dataframe thead th {\n",
       "        text-align: right;\n",
       "    }\n",
       "</style>\n",
       "<table border=\"1\" class=\"dataframe\">\n",
       "  <thead>\n",
       "    <tr style=\"text-align: right;\">\n",
       "      <th></th>\n",
       "      <th>sample</th>\n",
       "      <th>library</th>\n",
       "      <th>forward</th>\n",
       "      <th>reverse</th>\n",
       "    </tr>\n",
       "  </thead>\n",
       "  <tbody>\n",
       "    <tr>\n",
       "      <th>0</th>\n",
       "      <td>pop1</td>\n",
       "      <td>1</td>\n",
       "      <td>resources/reads/pop1_1.fq.gz</td>\n",
       "      <td>resources/reads/pop1_2.fq.gz</td>\n",
       "    </tr>\n",
       "    <tr>\n",
       "      <th>1</th>\n",
       "      <td>pop2</td>\n",
       "      <td>1</td>\n",
       "      <td>resources/reads/pop2_1.fq.gz</td>\n",
       "      <td>resources/reads/pop2_2.fq.gz</td>\n",
       "    </tr>\n",
       "  </tbody>\n",
       "</table>\n",
       "</div>"
      ],
      "text/plain": [
       "  sample library                       forward                       reverse\n",
       "0   pop1       1  resources/reads/pop1_1.fq.gz  resources/reads/pop1_2.fq.gz\n",
       "1   pop2       1  resources/reads/pop2_1.fq.gz  resources/reads/pop2_2.fq.gz"
      ]
     },
     "execution_count": 82,
     "metadata": {},
     "output_type": "execute_result"
    }
   ],
   "source": [
    "samples[samples[\"library\"] == library]"
   ]
  },
  {
   "cell_type": "code",
   "execution_count": null,
   "metadata": {},
   "outputs": [],
   "source": []
  }
 ],
 "metadata": {
  "kernelspec": {
   "display_name": "base",
   "language": "python",
   "name": "python3"
  },
  "language_info": {
   "codemirror_mode": {
    "name": "ipython",
    "version": 3
   },
   "file_extension": ".py",
   "mimetype": "text/x-python",
   "name": "python",
   "nbconvert_exporter": "python",
   "pygments_lexer": "ipython3",
   "version": "3.11.0"
  },
  "orig_nbformat": 4,
  "vscode": {
   "interpreter": {
    "hash": "d3885562e1963653479fadefd85efa8fbbf5083f2f5cbe1edc53396dc946bfd0"
   }
  }
 },
 "nbformat": 4,
 "nbformat_minor": 2
}
